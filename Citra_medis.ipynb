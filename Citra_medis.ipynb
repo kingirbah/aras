{
 "cells": [
  {
   "cell_type": "code",
   "execution_count": 27,
   "id": "8357eedc",
   "metadata": {},
   "outputs": [],
   "source": [
    "import cv2 as cv\n",
    "import numpy as np\n",
    "from matplotlib import pyplot as plt\n"
   ]
  },
  {
   "cell_type": "code",
   "execution_count": 28,
   "id": "254b267f",
   "metadata": {},
   "outputs": [
    {
     "name": "stdout",
     "output_type": "stream",
     "text": [
      "Requirement already satisfied: opencv-python in c:\\users\\user\\appdata\\roaming\\python\\python39\\site-packages (4.7.0.72)\n",
      "Requirement already satisfied: numpy>=1.17.3 in c:\\users\\user\\anaconda3\\lib\\site-packages (from opencv-python) (1.21.5)\n",
      "Requirement already satisfied: matplotlib in c:\\users\\user\\anaconda3\\lib\\site-packages (3.5.2)\n",
      "Requirement already satisfied: numpy>=1.17 in c:\\users\\user\\anaconda3\\lib\\site-packages (from matplotlib) (1.21.5)\n",
      "Requirement already satisfied: cycler>=0.10 in c:\\users\\user\\anaconda3\\lib\\site-packages (from matplotlib) (0.11.0)\n",
      "Requirement already satisfied: python-dateutil>=2.7 in c:\\users\\user\\anaconda3\\lib\\site-packages (from matplotlib) (2.8.2)\n",
      "Requirement already satisfied: kiwisolver>=1.0.1 in c:\\users\\user\\anaconda3\\lib\\site-packages (from matplotlib) (1.4.2)\n",
      "Requirement already satisfied: pillow>=6.2.0 in c:\\users\\user\\anaconda3\\lib\\site-packages (from matplotlib) (9.2.0)\n",
      "Requirement already satisfied: fonttools>=4.22.0 in c:\\users\\user\\anaconda3\\lib\\site-packages (from matplotlib) (4.25.0)\n",
      "Requirement already satisfied: pyparsing>=2.2.1 in c:\\users\\user\\anaconda3\\lib\\site-packages (from matplotlib) (3.0.9)\n",
      "Requirement already satisfied: packaging>=20.0 in c:\\users\\user\\anaconda3\\lib\\site-packages (from matplotlib) (21.3)\n",
      "Requirement already satisfied: six>=1.5 in c:\\users\\user\\anaconda3\\lib\\site-packages (from python-dateutil>=2.7->matplotlib) (1.16.0)\n"
     ]
    }
   ],
   "source": [
    "!pip install opencv-python\n",
    "!pip install matplotlib"
   ]
  },
  {
   "cell_type": "markdown",
   "id": "2d39c28e",
   "metadata": {},
   "source": [
    "# Membaca Gambar"
   ]
  },
  {
   "cell_type": "code",
   "execution_count": 29,
   "id": "26ef808e",
   "metadata": {},
   "outputs": [],
   "source": [
    "img = cv.imread(\"tengkorak.jpg\")"
   ]
  },
  {
   "cell_type": "code",
   "execution_count": 30,
   "id": "2b02d5ad",
   "metadata": {},
   "outputs": [],
   "source": [
    "cv.imshow('Image', img)\n",
    "cv.waitKey(0)\n",
    "cv.destroyAllWindows()"
   ]
  },
  {
   "cell_type": "code",
   "execution_count": 31,
   "id": "913c3573",
   "metadata": {},
   "outputs": [
    {
     "name": "stdout",
     "output_type": "stream",
     "text": [
      "(517, 612, 3)\n"
     ]
    }
   ],
   "source": [
    "print(img.shape)"
   ]
  },
  {
   "cell_type": "markdown",
   "id": "1313b2a9",
   "metadata": {},
   "source": [
    "# Split RGB Image"
   ]
  },
  {
   "cell_type": "code",
   "execution_count": 32,
   "id": "64ac14bf",
   "metadata": {},
   "outputs": [],
   "source": [
    "b= img[:,:,0]\n",
    "g= img[:,:,1]\n",
    "r= img[:,:,2]"
   ]
  },
  {
   "cell_type": "markdown",
   "id": "b0c4daa7",
   "metadata": {},
   "source": [
    "# RGB to Greyscale with OpenCV"
   ]
  },
  {
   "cell_type": "code",
   "execution_count": 33,
   "id": "42864f9e",
   "metadata": {},
   "outputs": [],
   "source": [
    "gray = cv.cvtColor(img, cv.COLOR_BGR2GRAY)"
   ]
  },
  {
   "cell_type": "code",
   "execution_count": 34,
   "id": "66c8371b",
   "metadata": {},
   "outputs": [],
   "source": [
    "cv.imshow('Gray', gray)\n",
    "cv.waitKey(0)\n",
    "cv.destroyAllWindows()"
   ]
  },
  {
   "cell_type": "code",
   "execution_count": 35,
   "id": "c1348855",
   "metadata": {},
   "outputs": [
    {
     "name": "stdout",
     "output_type": "stream",
     "text": [
      "(517, 612)\n"
     ]
    }
   ],
   "source": [
    "print(gray.shape)"
   ]
  },
  {
   "cell_type": "markdown",
   "id": "bb6f4a68",
   "metadata": {},
   "source": [
    "# Mengubah pixel "
   ]
  },
  {
   "cell_type": "code",
   "execution_count": 36,
   "id": "e859e076",
   "metadata": {},
   "outputs": [],
   "source": [
    "panjang = len(img)\n",
    "lebar = len(img[0])\n",
    "\n",
    "img_gray = np.zeros((panjang,lebar))\n",
    "\n",
    "for i in range (panjang):\n",
    "    for j in range (lebar):\n",
    "        img_gray[i,j] = 0.2989 * r[i,j] + 0.587 * g[i,j] + 0.1141 * b[i,j]\n",
    "\n",
    "        img_gray = img_gray.astype(np.uint8)"
   ]
  },
  {
   "cell_type": "code",
   "execution_count": 37,
   "id": "2044c48c",
   "metadata": {},
   "outputs": [],
   "source": [
    "cv.imshow(\"Abu\", img_gray)\n",
    "cv.waitKey(0)\n",
    "cv.destroyAllWindows()"
   ]
  },
  {
   "cell_type": "code",
   "execution_count": 38,
   "id": "59219f77",
   "metadata": {},
   "outputs": [
    {
     "name": "stdout",
     "output_type": "stream",
     "text": [
      "[[ 0  0  0 ...  3  3  3]\n",
      " [ 0  0  0 ...  3  3  3]\n",
      " [ 0  0  0 ...  3  3  3]\n",
      " ...\n",
      " [ 1  1  1 ...  3  7 14]\n",
      " [ 1  1  1 ...  3  7 14]\n",
      " [ 1  1  1 ...  3  7 14]]\n"
     ]
    }
   ],
   "source": [
    "print(img_gray)"
   ]
  },
  {
   "cell_type": "markdown",
   "id": "eb3d2b83",
   "metadata": {},
   "source": [
    "# Grayscale to Binary with OpenCV"
   ]
  },
  {
   "cell_type": "code",
   "execution_count": 39,
   "id": "73060113",
   "metadata": {},
   "outputs": [],
   "source": [
    "(thresh, binary) = cv.threshold(gray, 128, 225, cv.THRESH_BINARY | cv.THRESH_OTSU)"
   ]
  },
  {
   "cell_type": "code",
   "execution_count": 40,
   "id": "6f8e8a5f",
   "metadata": {},
   "outputs": [],
   "source": [
    "cv.imshow('Gray', binary)\n",
    "cv.waitKey(0)\n",
    "cv.destroyAllWindows()"
   ]
  },
  {
   "cell_type": "code",
   "execution_count": 41,
   "id": "b77f98a9",
   "metadata": {},
   "outputs": [
    {
     "name": "stdout",
     "output_type": "stream",
     "text": [
      "(517, 612)\n"
     ]
    }
   ],
   "source": [
    "print(binary.shape)"
   ]
  },
  {
   "cell_type": "code",
   "execution_count": null,
   "id": "f44df829",
   "metadata": {},
   "outputs": [],
   "source": []
  }
 ],
 "metadata": {
  "kernelspec": {
   "display_name": "Python 3 (ipykernel)",
   "language": "python",
   "name": "python3"
  },
  "language_info": {
   "codemirror_mode": {
    "name": "ipython",
    "version": 3
   },
   "file_extension": ".py",
   "mimetype": "text/x-python",
   "name": "python",
   "nbconvert_exporter": "python",
   "pygments_lexer": "ipython3",
   "version": "3.9.13"
  }
 },
 "nbformat": 4,
 "nbformat_minor": 5
}
